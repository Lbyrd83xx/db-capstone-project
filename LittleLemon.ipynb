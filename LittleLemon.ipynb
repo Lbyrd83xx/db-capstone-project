{
 "cells": [
  {
   "cell_type": "code",
   "execution_count": 18,
   "id": "df852874-aad8-494c-8ff6-8c908a39cc55",
   "metadata": {},
   "outputs": [],
   "source": [
    "import mysql.connector as connector\n",
    "\n",
    "# enter user details and connect with the database\n",
    "connection = connector.connect(user=\"root\", password=\"Lbh4pa@1988\", db=\"littlelemondb\")\n",
    "\n",
    "# instantiate cursor instance to pass queries and return results\n",
    "cursor = connection.cursor()"
   ]
  },
  {
   "cell_type": "code",
   "execution_count": 4,
   "id": "3ceae274-90f2-4388-b6d3-509ccf083d5d",
   "metadata": {},
   "outputs": [
    {
     "name": "stdout",
     "output_type": "stream",
     "text": [
      "('bookings',)\n",
      "('customerdetails',)\n",
      "('menu',)\n",
      "('orderdeliverystatus',)\n",
      "('orders',)\n",
      "('staffinformation',)\n"
     ]
    }
   ],
   "source": [
    "# create a cursor object\n",
    "cursor = connection.cursor()\n",
    "\n",
    "# execute a test query to ensure that there are no issues\n",
    "show_tables_query = \"SHOW tables\" \n",
    "cursor.execute(show_tables_query)\n",
    "\n",
    "# Fetch all results in one call using fetchall() method of cursor object \n",
    "results = cursor.fetchall()\n",
    "\n",
    "# Print the results\n",
    "for result in results:\n",
    "  print(result)"
   ]
  },
  {
   "cell_type": "code",
   "execution_count": 16,
   "id": "ed1c6fa4-86dd-4114-bed1-5e0741c91260",
   "metadata": {
    "scrolled": true
   },
   "outputs": [],
   "source": [
    "import mysql.connector\n",
    "\n",
    "# establish connection\n",
    "mydb = mysql.connector.connect(\n",
    "  host=\"localhost\",\n",
    "  user=\"root\",\n",
    "  password=\"Lbh4pa@1988\",\n",
    "  database=\"littlelemondb\"\n",
    ")\n",
    "\n",
    "# create a cursor object\n",
    "mycursor = mydb.cursor()\n",
    "\n",
    "# specify the required columns from both tables\n",
    "select_query = \"SELECT CustomerDetails.FullName, CustomerDetails.ContactNumber, CustomerDetails.Email, Orders.TotalCost FROM CustomerDetails JOIN Orders ON CustomerDetails.CustomerID = `orders`.`CustomerDetails_CustomerID`\"\n",
    "\n",
    "# add a WHERE clause to filter data on TotalCost > 60\n",
    "select_query += \" WHERE Orders.TotalCost > 60\"\n",
    "\n",
    "# execute the query\n",
    "mycursor.execute(select_query)\n",
    "\n",
    "# fetch all the results\n",
    "# print the results\n",
    "# print the query result\n",
    "result = mycursor.fetchall()\n",
    "for row in result:\n",
    "  print(row)"
   ]
  },
  {
   "cell_type": "code",
   "execution_count": 17,
   "id": "5da43ff4-cd0b-4cf1-89cf-48568b7a7873",
   "metadata": {},
   "outputs": [],
   "source": [
    "# Close cursor and connection\n",
    "cursor.close()\n",
    "connection.close()"
   ]
  },
  {
   "cell_type": "code",
   "execution_count": null,
   "id": "3370ce70-eb73-4d99-9235-9eff7edfd124",
   "metadata": {},
   "outputs": [],
   "source": []
  }
 ],
 "metadata": {
  "kernelspec": {
   "display_name": "Python 3 (ipykernel)",
   "language": "python",
   "name": "python3"
  },
  "language_info": {
   "codemirror_mode": {
    "name": "ipython",
    "version": 3
   },
   "file_extension": ".py",
   "mimetype": "text/x-python",
   "name": "python",
   "nbconvert_exporter": "python",
   "pygments_lexer": "ipython3",
   "version": "3.11.5"
  }
 },
 "nbformat": 4,
 "nbformat_minor": 5
}
